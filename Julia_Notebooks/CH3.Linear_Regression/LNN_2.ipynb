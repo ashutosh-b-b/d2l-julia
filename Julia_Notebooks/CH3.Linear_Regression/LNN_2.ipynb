{
 "cells": [
  {
   "cell_type": "markdown",
   "id": "ee01553c-c2e8-426f-96ed-4457fd6f0cbc",
   "metadata": {},
   "source": [
    "# Multiple Dispatch Design for Implementation\n"
   ]
  },
  {
   "cell_type": "code",
   "execution_count": null,
   "id": "3dd6015a-f473-49ae-be88-96f827ad6374",
   "metadata": {},
   "outputs": [],
   "source": []
  }
 ],
 "metadata": {
  "kernelspec": {
   "display_name": "Julia (4 threads) 1.11.4",
   "language": "julia",
   "name": "julia-_4-threads_-1.11"
  },
  "language_info": {
   "file_extension": ".jl",
   "mimetype": "application/julia",
   "name": "julia",
   "version": "1.11.4"
  }
 },
 "nbformat": 4,
 "nbformat_minor": 5
}
