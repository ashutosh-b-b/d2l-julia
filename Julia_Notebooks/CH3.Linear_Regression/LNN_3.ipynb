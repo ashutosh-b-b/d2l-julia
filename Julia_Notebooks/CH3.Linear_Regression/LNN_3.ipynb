{
 "cells": [
  {
   "cell_type": "markdown",
   "id": "bd1bac4f-7f0b-4010-9b27-1f0ea9930b37",
   "metadata": {},
   "source": [
    "# Synthetic Regression Data\n",
    ":label:`sec_synthetic-regression-data`\n",
    "\n",
    "\n",
    "Machine learning is all about extracting information from data.\n",
    "So you might wonder, what could we possibly learn from synthetic data?\n",
    "While we might not care intrinsically about the patterns \n",
    "that we ourselves baked into an artificial data generating model,\n",
    "such datasets are nevertheless useful for didactic purposes,\n",
    "helping us to evaluate the properties of our learning \n",
    "algorithms and to confirm that our implementations work as expected.\n",
    "For example, if we create data for which the correct parameters are known *a priori*,\n",
    "then we can check that our model can in fact recover them.\n"
   ]
  },
  {
   "cell_type": "code",
   "execution_count": 22,
   "id": "f5109c95-1a80-4f2c-beaf-ece86b2a3bff",
   "metadata": {},
   "outputs": [
    {
     "name": "stderr",
     "output_type": "stream",
     "text": [
      "\u001b[32m\u001b[1m  Activating\u001b[22m\u001b[39m project at `/workspace/workspace/d2l-julia/d2lai`\n"
     ]
    }
   ],
   "source": [
    "using Pkg\n",
    "Pkg.activate(\"../../d2lai\")\n",
    "using d2lai\n",
    "using Random, Flux"
   ]
  },
  {
   "cell_type": "markdown",
   "id": "6db3ed12-de2f-43ac-894b-a73ba34130a6",
   "metadata": {},
   "source": [
    "## Generating the Dataset\n",
    "\n",
    "For this example, we will work in low dimension\n",
    "for succinctness.\n",
    "The following code snippet generates 1000 examples\n",
    "with 2-dimensional features drawn \n",
    "from a standard normal distribution.\n",
    "The resulting design matrix $\\mathbf{X}$\n",
    "belongs to $\\mathbb{R}^{1000 \\times 2}$. \n",
    "We generate each label by applying \n",
    "a *ground truth* linear function, \n",
    "corrupting them via additive noise $\\boldsymbol{\\epsilon}$, \n",
    "drawn independently and identically for each example:\n",
    "\n",
    "$$\\mathbf{y}= \\mathbf{X} \\mathbf{w} + b + \\boldsymbol{\\epsilon}.$$\n",
    "\n",
    "For convenience we assume that $\\boldsymbol{\\epsilon}$ is drawn \n",
    "from a normal distribution with mean $\\mu= 0$ \n",
    "and standard deviation $\\sigma = 0.01$."
   ]
  },
  {
   "cell_type": "code",
   "execution_count": 3,
   "id": "cf5f42d3-ce04-4343-be44-6d3fd142ba1a",
   "metadata": {},
   "outputs": [],
   "source": [
    "struct SyntheticRegressionData <: d2lai.AbstractData\n",
    "    X::AbstractArray \n",
    "    y::AbstractArray \n",
    "    args::NamedTuple\n",
    "    function SyntheticRegressionData(w, b, noise = 0.01, num_train = 1000, num_val = 1000, batchsize = 32)\n",
    "        args = (noise = noise, num_train = num_train, num_val = num_val, batchsize = batchsize)\n",
    "        n = args.num_train + args.num_val \n",
    "        X = randn(length(w), n)\n",
    "        y = w*X .+ b .+ randn(1, n).*noise\n",
    "        new(X, y, args)\n",
    "    end\n",
    "end\n",
    "\n"
   ]
  },
  {
   "cell_type": "markdown",
   "id": "b9c88283-05a1-447a-b96f-e7ba2982852a",
   "metadata": {},
   "source": [
    "Below, we set the true parameters to $\\mathbf{w} = [2, -3.4]^\\top$ and $b = 4.2$.\n",
    "Later, we can check our estimated parameters against these *ground truth* values."
   ]
  },
  {
   "cell_type": "code",
   "execution_count": 4,
   "id": "6d0c5388-12a8-4a82-9dfb-34c68250229e",
   "metadata": {},
   "outputs": [
    {
     "data": {
      "text/plain": [
       "Data object of type SyntheticRegressionData\n"
      ]
     },
     "execution_count": 4,
     "metadata": {},
     "output_type": "execute_result"
    }
   ],
   "source": [
    "data = SyntheticRegressionData([2 -3.4], 4.3)\n"
   ]
  },
  {
   "cell_type": "markdown",
   "id": "60c536a8-72b9-4125-aa4c-3cb6a524b32f",
   "metadata": {},
   "source": [
    "Each row in `features` consists of a vector in $\\mathbb{R}^2$ and each row in `labels` is a scalar. Let's have a look at the first entry.\n"
   ]
  },
  {
   "cell_type": "code",
   "execution_count": 6,
   "id": "4bd65a4d-acbd-4cf4-8a03-99a1f820ed18",
   "metadata": {},
   "outputs": [
    {
     "name": "stdout",
     "output_type": "stream",
     "text": [
      "features: [0.2633521971652844, -1.110529094600684], labels: 8.600873573059339\n"
     ]
    }
   ],
   "source": [
    "println(\"features: $(data.X[:, 1]), labels: $(data.y[1])\")"
   ]
  },
  {
   "cell_type": "markdown",
   "id": "67ce4da8-0e30-4fbe-9302-709937005ee2",
   "metadata": {},
   "source": [
    "## Reading the Dataset\n",
    "\n",
    "Training machine learning models often requires multiple passes over a dataset, \n",
    "grabbing one minibatch of examples at a time. \n",
    "This data is then used to update the model. \n",
    "To illustrate how this works, we \n",
    "implement the `get_dataloader` method,\n",
    "It takes a batch size, a matrix of features,\n",
    "and a vector of labels, and generates minibatches of size `batch_size`.\n",
    "As such, each minibatch consists of a tuple of features and labels. \n",
    "Note that we need to be mindful of whether we're in training or validation mode: \n",
    "in the former, we will want to read the data in random order, \n",
    "whereas for the latter, being able to read data in a pre-defined order \n",
    "may be important for debugging purposes."
   ]
  },
  {
   "cell_type": "code",
   "execution_count": 10,
   "id": "7da31992-b579-4351-a6d1-13ababa734dc",
   "metadata": {},
   "outputs": [],
   "source": [
    "function d2lai.get_dataloader(data::d2lai.AbstractData; train = true)\n",
    "        indices = train ? Random.shuffle(1:data.args.num_train) : (data.args.num_train+1):(data.args.num_train+data.args.num_val)\n",
    "        partitioned_indices = collect(Iterators.partition(indices, data.args.batchsize))\n",
    "        data = map(partitioned_indices) do idx \n",
    "            data.X[:, idx], data.y[:, idx]\n",
    "        end\n",
    "        data\n",
    "end"
   ]
  },
  {
   "cell_type": "markdown",
   "id": "98d62443-0b0a-4bc6-bdd0-2198e691f393",
   "metadata": {},
   "source": [
    "To build some intuition, let's inspect the first minibatch of\n",
    "data. Each minibatch of features provides us with both its size and the dimensionality of input features.\n",
    "Likewise, our minibatch of labels will have a matching shape given by `batch_size`."
   ]
  },
  {
   "cell_type": "code",
   "execution_count": 14,
   "id": "a6898791-e4a5-43f7-a854-ab5efe4541ee",
   "metadata": {},
   "outputs": [
    {
     "data": {
      "text/plain": [
       "2×32 Matrix{Float64}:\n",
       " -0.909321  -0.500413  -0.790988  …  0.313599  -0.0526522  -0.169194\n",
       " -2.33647   -0.913567   0.516172     1.45126   -0.156959   -2.91507"
      ]
     },
     "execution_count": 14,
     "metadata": {},
     "output_type": "execute_result"
    }
   ],
   "source": [
    "d2lai.train_dataloader(data)[1][1]"
   ]
  },
  {
   "cell_type": "markdown",
   "id": "bf27f11a-f027-4a5c-95f8-be276f99e47c",
   "metadata": {},
   "source": [
    "While seemingly innocuous, the invocation \n",
    "of `d2lai.train_dataloader` \n",
    "illustrates the power of multiple dispatch.\n",
    "\n",
    "Throughout the iteration we obtain distinct minibatches\n",
    "until the entire dataset has been exhausted (try this).\n",
    "While the iteration implemented above is good for didactic purposes,\n",
    "it is inefficient in ways that might get us into trouble with real problems.\n",
    "For example, it requires that we load all the data in memory\n",
    "and that we perform lots of random memory access.\n",
    "The built-in iterators implemented in a deep learning framework\n",
    "are considerably more efficient and they can deal\n",
    "with sources such as data stored in files, \n",
    "data received via a stream, \n",
    "and data generated or processed on the fly. \n",
    "Next let's try to implement the same method using built-in iterators."
   ]
  },
  {
   "cell_type": "markdown",
   "id": "72df031a-898c-4093-8cde-204f0188c5b0",
   "metadata": {},
   "source": [
    "## Concise Implementation of the Data Loader\n",
    "\n",
    "Rather than writing our own iterator,\n",
    "we can call the existing API in a framework to load data.\n",
    "As before, we need a dataset with features `X` and labels `y`. \n",
    "Beyond that, we set `batchsize` in the built-in data loader \n",
    "and let it take care of shuffling examples  efficiently.\n",
    "\n"
   ]
  },
  {
   "cell_type": "code",
   "execution_count": 24,
   "id": "4ba844cd-5a7a-4033-9eea-9daa5999cd5a",
   "metadata": {},
   "outputs": [],
   "source": [
    "function d2lai.get_dataloader(data::SyntheticRegressionData; train = true)\n",
    "    indices = train ? Random.shuffle(1:data.args.num_train) : (data.args.num_train+1):(data.args.num_train+data.args.num_val)\n",
    "    Flux.DataLoader((data.X[:, indices], data.y[indices]); batchsize = data.args.batchsize, )\n",
    "\n",
    "end"
   ]
  },
  {
   "cell_type": "markdown",
   "id": "6e6a994b-4a03-451d-ab41-5abd6ca1253e",
   "metadata": {},
   "source": [
    "The new data loader behaves just like the previous one, except that it is more efficient and has some added functionality.\n"
   ]
  },
  {
   "cell_type": "code",
   "execution_count": 28,
   "id": "a03b6ed1-4b9d-4230-9208-b4b4f67d423c",
   "metadata": {},
   "outputs": [
    {
     "data": {
      "text/plain": [
       "2×32 Matrix{Float64}:\n",
       " -0.71515    0.407084  -1.88941  …  0.0295728  0.346882  -0.346259\n",
       "  0.372792  -0.688122   1.75975     0.255949   0.702533  -0.0318633"
      ]
     },
     "execution_count": 28,
     "metadata": {},
     "output_type": "execute_result"
    }
   ],
   "source": [
    "first(d2lai.train_dataloader(data))[1]"
   ]
  },
  {
   "cell_type": "markdown",
   "id": "a6e17900-009a-4067-a360-703eef7ddfbc",
   "metadata": {},
   "source": [
    "## Summary\n",
    "\n",
    "Data loaders are a convenient way of abstracting out \n",
    "the process of loading and manipulating data. \n",
    "This way the same machine learning *algorithm* \n",
    "is capable of processing many different types and sources of data \n",
    "without the need for modification. \n",
    "One of the nice things about data loaders \n",
    "is that they can be composed. \n",
    "For instance, we might be loading images \n",
    "and then have a postprocessing filter \n",
    "that crops them or modifies them in other ways. \n",
    "As such, data loaders can be used \n",
    "to describe an entire data processing pipeline. \n",
    "\n",
    "As for the model itself, the two-dimensional linear model \n",
    "is about the simplest we might encounter. \n",
    "It lets us test out the accuracy of regression models \n",
    "without worrying about having insufficient amounts of data \n",
    "or an underdetermined system of equations. \n",
    "We will put this to good use in the next section.  \n",
    "\n",
    "\n",
    "## Exercises\n",
    "\n",
    "1. What will happen if the number of examples cannot be divided by the batch size. How would you change this behavior by specifying a different argument by using the framework's API?\n",
    "1. Suppose that we want to generate a huge dataset, where both the size of the parameter vector `w` and the number of examples `num_examples` are large.\n",
    "    1. What happens if we cannot hold all data in memory?\n",
    "    1. How would you shuffle the data if it is held on disk? Your task is to design an *efficient* algorithm that does not require too many random reads or writes. Hint: [pseudorandom permutation generators](https://en.wikipedia.org/wiki/Pseudorandom_permutation) allow you to design a reshuffle without the need to store the permutation table explicitly :cite:`Naor.Reingold.1999`. \n",
    "1. Implement a data generator that produces new data on the fly, every time the iterator is called. \n",
    "1. How would you design a random data generator that generates *the same* data each time it is called?\n",
    "\n"
   ]
  },
  {
   "cell_type": "code",
   "execution_count": null,
   "id": "bab3952f-567c-4bd4-9bcc-f1c304191c83",
   "metadata": {},
   "outputs": [],
   "source": []
  }
 ],
 "metadata": {
  "kernelspec": {
   "display_name": "Julia (4 threads) 1.11.4",
   "language": "julia",
   "name": "julia-_4-threads_-1.11"
  },
  "language_info": {
   "file_extension": ".jl",
   "mimetype": "application/julia",
   "name": "julia",
   "version": "1.11.4"
  }
 },
 "nbformat": 4,
 "nbformat_minor": 5
}
