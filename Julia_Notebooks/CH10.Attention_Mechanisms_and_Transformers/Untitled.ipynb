{
 "cells": [
  {
   "cell_type": "code",
   "execution_count": null,
   "id": "3f022d22-d464-473d-a3b7-f4e9f805993c",
   "metadata": {},
   "outputs": [],
   "source": []
  }
 ],
 "metadata": {
  "kernelspec": {
   "display_name": "Julia (16 threads) 1.11.4",
   "language": "julia",
   "name": "julia-_16-threads_-1.11"
  },
  "language_info": {
   "file_extension": ".jl",
   "mimetype": "application/julia",
   "name": "julia",
   "version": "1.11.4"
  }
 },
 "nbformat": 4,
 "nbformat_minor": 5
}
