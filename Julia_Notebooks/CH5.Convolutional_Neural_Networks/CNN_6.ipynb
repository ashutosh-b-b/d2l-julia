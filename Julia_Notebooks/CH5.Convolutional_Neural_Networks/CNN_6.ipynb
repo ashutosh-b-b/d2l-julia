{
 "cells": [
  {
   "cell_type": "code",
   "execution_count": 1,
   "metadata": {},
   "outputs": [
    {
     "name": "stderr",
     "output_type": "stream",
     "text": [
      "\u001b[32m\u001b[1m  Activating\u001b[22m\u001b[39m project at `~/Projects/D2L/d2lai`\n"
     ]
    }
   ],
   "source": [
    "using Pkg; Pkg.activate(\"d2lai\")\n",
    "using d2lai\n",
    "using Flux "
   ]
  },
  {
   "cell_type": "code",
   "execution_count": null,
   "metadata": {},
   "outputs": [],
   "source": [
    "struct LeNet{N} <: AbstractModel\n",
    "    net::N\n",
    "end\n",
    "function LeNet(lr = 0.1, num_classes = 10)\n",
    "    net = Chain(\n",
    "        Conv2d((5,5), 1 => 6, sigmoid; pad = 2),\n",
    "        MeanPool((2,2), stride = 2),\n",
    "        Conv2d((5,5), 6 => 16, sigmoid),\n",
    "        MeanPool((2,2), stride = 2),\n",
    "        Flux.flatten,\n",
    "        Dense(400 => 120, sigmoid),\n",
    "        Dense(120 => 84, sigmoid),\n",
    "        Dense(84 => 10)\n",
    "    )\n",
    "    LeNet{typeof(net)}(net)\n",
    "end"
   ]
  }
 ],
 "metadata": {
  "kernelspec": {
   "display_name": "Julia 1.10.4",
   "language": "julia",
   "name": "julia-1.10"
  },
  "language_info": {
   "file_extension": ".jl",
   "mimetype": "application/julia",
   "name": "julia",
   "version": "1.10.4"
  },
  "orig_nbformat": 4
 },
 "nbformat": 4,
 "nbformat_minor": 2
}
