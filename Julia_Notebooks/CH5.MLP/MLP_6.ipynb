{
 "cells": [
  {
   "cell_type": "markdown",
   "id": "ae6d6716-69d3-4c43-b8d4-6320d75d823f",
   "metadata": {},
   "source": [
    "# Dropout\n",
    ":label:`sec_dropout`\n",
    "\n",
    "\n",
    "Let's think briefly about what we\n",
    "expect from a good predictive model.\n",
    "We want it to peform well on unseen data.\n",
    "Classical generalization theory\n",
    "suggests that to close the gap between\n",
    "train and test performance,\n",
    "we should aim for a simple model.\n",
    "Simplicity can come in the form\n",
    "of a small number of dimensions.\n",
    "We explored this when discussing the\n",
    "monomial basis functions of linear models\n",
    "in :numref:`sec_generalization_basics`.\n",
    "Additionally, as we saw when discussing weight decay\n",
    "($\\ell_2$ regularization) in :numref:`sec_weight_decay`,\n",
    "the (inverse) norm of the parameters also\n",
    "represents a useful measure of simplicity.\n",
    "Another useful notion of simplicity is smoothness,\n",
    "i.e., that the function should not be sensitive\n",
    "to small changes to its inputs.\n",
    "For instance, when we classify images,\n",
    "we would expect that adding some random noise\n",
    "to the pixels should be mostly harmless.\n",
    "\n",
    ":citet:`Bishop.1995` formalized\n",
    "this idea when he proved that training with input noise\n",
    "is equivalent to Tikhonov regularization.\n",
    "This work drew a clear mathematical connection\n",
    "between the requirement that a function be smooth (and thus simple),\n",
    "and the requirement that it be resilient\n",
    "to perturbations in the input.\n",
    "\n",
    "Then, :citet:`Srivastava.Hinton.Krizhevsky.ea.2014`\n",
    "developed a clever idea for how to apply Bishop's idea\n",
    "to the internal layers of a network, too.\n",
    "Their idea, called *dropout*, involves\n",
    "injecting noise while computing\n",
    "each internal layer during forward propagation,\n",
    "and it has become a standard technique\n",
    "for training neural networks.\n",
    "The method is called *dropout* because we literally\n",
    "*drop out* some neurons during training.\n",
    "Throughout training, on each iteration,\n",
    "standard dropout consists of zeroing out\n",
    "some fraction of the nodes in each layer\n",
    "before calculating the subsequent layer.\n",
    "\n",
    "To be clear, we are imposing\n",
    "our own narrative with the link to Bishop.\n",
    "The original paper on dropout\n",
    "offers intuition through a surprising\n",
    "analogy to sexual reproduction.\n",
    "The authors argue that neural network overfitting\n",
    "is characterized by a state in which\n",
    "each layer relies on a specific\n",
    "pattern of activations in the previous layer,\n",
    "calling this condition *co-adaptation*.\n",
    "Dropout, they claim, breaks up co-adaptation\n",
    "just as sexual reproduction is argued to\n",
    "break up co-adapted genes.\n",
    "While such an justification of this theory is certainly up for debate,\n",
    "the dropout technique itself has proved enduring,\n",
    "and various forms of dropout are implemented\n",
    "in most deep learning libraries. \n",
    "\n",
    "\n",
    "The key challenge is how to inject this noise.\n",
    "One idea is to inject it in an *unbiased* manner\n",
    "so that the expected value of each layer---while fixing\n",
    "the others---equals the value it would have taken absent noise.\n",
    "In Bishop's work, he added Gaussian noise\n",
    "to the inputs to a linear model.\n",
    "At each training iteration, he added noise\n",
    "sampled from a distribution with mean zero\n",
    "$\\epsilon \\sim \\mathcal{N}(0,\\sigma^2)$ to the input $\\mathbf{x}$,\n",
    "yielding a perturbed point $\\mathbf{x}' = \\mathbf{x} + \\epsilon$.\n",
    "In expectation, $E[\\mathbf{x}'] = \\mathbf{x}$.\n",
    "\n",
    "In standard dropout regularization,\n",
    "one zeros out some fraction of the nodes in each layer\n",
    "and then *debiases* each layer by normalizing\n",
    "by the fraction of nodes that were retained (not dropped out).\n",
    "In other words,\n",
    "with *dropout probability* $p$,\n",
    "each intermediate activation $h$ is replaced by\n",
    "a random variable $h'$ as follows:\n",
    "\n",
    "$$\n",
    "\\begin{aligned}\n",
    "h' =\n",
    "\\begin{cases}\n",
    "    0 & \\textrm{ with probability } p \\\\\n",
    "    \\frac{h}{1-p} & \\textrm{ otherwise}\n",
    "\\end{cases}\n",
    "\\end{aligned}\n",
    "$$\n",
    "\n",
    "By design, the expectation remains unchanged, i.e., $E[h'] = h$."
   ]
  },
  {
   "cell_type": "code",
   "execution_count": 12,
   "id": "9c0aa07b-eee8-4c8a-8135-73ac2855cb01",
   "metadata": {},
   "outputs": [
    {
     "name": "stderr",
     "output_type": "stream",
     "text": [
      "\u001b[32m\u001b[1m  Activating\u001b[22m\u001b[39m project at `/workspace/workspace/d2l-julia/d2lai`\n"
     ]
    }
   ],
   "source": [
    "using Pkg\n",
    "Pkg.activate(\"../../d2lai\")\n",
    "using d2lai, Flux, Distributions"
   ]
  },
  {
   "cell_type": "markdown",
   "id": "b4e84226-ffa5-4a56-971e-1431a063a4d1",
   "metadata": {},
   "source": [
    "## Dropout in Practice\n",
    "\n",
    "Recall the MLP with a hidden layer and five hidden units\n",
    "from :numref:`fig_mlp`.\n",
    "When we apply dropout to a hidden layer,\n",
    "zeroing out each hidden unit with probability $p$,\n",
    "the result can be viewed as a network\n",
    "containing only a subset of the original neurons.\n",
    "In :numref:`fig_dropout2`, $h_2$ and $h_5$ are removed.\n",
    "Consequently, the calculation of the outputs\n",
    "no longer depends on $h_2$ or $h_5$\n",
    "and their respective gradient also vanishes\n",
    "when performing backpropagation.\n",
    "In this way, the calculation of the output layer\n",
    "cannot be overly dependent on any\n",
    "one element of $h_1, \\ldots, h_5$.\n",
    "\n",
    "![MLP before and after dropout.](../img/dropout2.svg)\n",
    ":label:`fig_dropout2`\n",
    "\n",
    "Typically, we disable dropout at test time.\n",
    "Given a trained model and a new example,\n",
    "we do not drop out any nodes\n",
    "and thus do not need to normalize.\n",
    "However, there are some exceptions:\n",
    "some researchers use dropout at test time as a heuristic\n",
    "for estimating the *uncertainty* of neural network predictions:\n",
    "if the predictions agree across many different dropout outputs,\n",
    "then we might say that the network is more confident.\n",
    "\n",
    "## Implementation from Scratch\n",
    "\n",
    "To implement the dropout function for a single layer,\n",
    "we must draw as many samples\n",
    "from a Bernoulli (binary) random variable\n",
    "as our layer has dimensions,\n",
    "where the random variable takes value $1$ (keep)\n",
    "with probability $1-p$ and $0$ (drop) with probability $p$.\n",
    "One easy way to implement this is to first draw samples\n",
    "from the uniform distribution $U[0, 1]$.\n",
    "Then we can keep those nodes for which the corresponding\n",
    "sample is greater than $p$, dropping the rest.\n",
    "\n",
    "In the following code, we (**implement a `dropout_layer` function\n",
    "that drops out the elements in the tensor input `X`\n",
    "with probability `dropout`**),\n",
    "rescaling the remainder as described above:\n",
    "dividing the survivors by `1.0-dropout`."
   ]
  },
  {
   "cell_type": "code",
   "execution_count": 3,
   "id": "82e116bf-0f53-4d49-8093-a66343c25337",
   "metadata": {},
   "outputs": [
    {
     "data": {
      "text/plain": [
       "dropout_layer (generic function with 1 method)"
      ]
     },
     "execution_count": 3,
     "metadata": {},
     "output_type": "execute_result"
    }
   ],
   "source": [
    "function dropout_layer(X::AbstractArray, dropout)\n",
    "    probs = rand(Bernoulli(dropout), size(X, 1))\n",
    "    return probs .* X\n",
    "end\n"
   ]
  },
  {
   "cell_type": "markdown",
   "id": "0df824ea-e16a-46ee-9225-8a2d10688870",
   "metadata": {},
   "source": [
    "We can test out the dropout_layer function on a few examples. In the following lines of code, we pass our input X through the dropout operation, with probabilities 0, 0.5, and 1, respectively."
   ]
  },
  {
   "cell_type": "code",
   "execution_count": 6,
   "id": "79cf6ef6-e8e9-47cd-92a7-62c3a9466a27",
   "metadata": {},
   "outputs": [
    {
     "name": "stdout",
     "output_type": "stream",
     "text": [
      "dropout with p = 0[1.0 3.0 5.0 7.0 9.0 11.0 13.0 15.0; 2.0 4.0 6.0 8.0 10.0 12.0 14.0 16.0]\n",
      "dropout with p = 0.5[2.0 0.0 0.0 14.0 18.0 0.0 0.0 0.0; 0.0 8.0 12.0 0.0 0.0 24.0 28.0 32.0]\n",
      "dropout with p = 1.0[0.0 0.0 0.0 0.0 0.0 0.0 0.0 0.0; 0.0 0.0 0.0 0.0 0.0 0.0 0.0 0.0]\n"
     ]
    }
   ],
   "source": [
    "X = reshape(1:16, 2, 8)\n",
    "println(\"dropout with p = 0\", dropout(X, 0.))\n",
    "println(\"dropout with p = 0.5\", dropout(X, 0.5))\n",
    "println(\"dropout with p = 1.0\", dropout(X, 1.))"
   ]
  },
  {
   "cell_type": "markdown",
   "id": "b3286062-f731-4a16-8e57-2f45e39cfcfe",
   "metadata": {},
   "source": [
    "### Defining the Model\n",
    "\n",
    "The model below applies dropout to the output\n",
    "of each hidden layer (following the activation function).\n",
    "We can set dropout probabilities for each layer separately.\n",
    "A common choice is to set\n",
    "a lower dropout probability closer to the input layer.\n",
    "We ensure that dropout is only active during training.\n"
   ]
  },
  {
   "cell_type": "code",
   "execution_count": 16,
   "id": "575de807-f4da-4988-aa22-68408f06ecde",
   "metadata": {},
   "outputs": [],
   "source": [
    "mutable struct DropoutScratchMLP{N, A} <: AbstractClassifier\n",
    "    net::N \n",
    "    args::A \n",
    "    train::Bool\n",
    "end\n",
    "Flux.@layer DropoutScratchMLP trainable=(net,)\n",
    "function DropoutScratchMLP(; args...)\n",
    "    net = Chain(Dense(args[:num_inputs], args[:num_hidden_1]), Dense(args[:num_hidden_1], args[:num_hidden_2]), Dense(args[:num_hidden_2], args[:num_outputs]), Flux.softmax)\n",
    "    DropoutScratchMLP(net, NamedTuple(args), true)\n",
    "end\n",
    "\n",
    "function d2lai.forward(mlp::DropoutScratchMLP, x)\n",
    "    lin1, lin2, lin3, softmax = mlp.net.layers\n",
    "    h1 = model.train ? dropout_layer(lin1(x), mlp.args.dropout_1) : lin1(x)\n",
    "    h2 = model.train ? dropout_layer(lin2(h1), mlp.args.dropout_2) : lin2(h1)\n",
    "    h3 = lin3(h2)\n",
    "    return softmax(h3)\n",
    "end\n"
   ]
  },
  {
   "cell_type": "markdown",
   "id": "77f7ef9d-a84c-4087-873a-a526828ca7e6",
   "metadata": {},
   "source": [
    "### Training\n",
    "\n",
    "The following is similar to the training of MLPs described previously.\n"
   ]
  },
  {
   "cell_type": "code",
   "execution_count": null,
   "id": "3db64a3b-7ca0-40f8-a0f4-f1f1d9a9a707",
   "metadata": {},
   "outputs": [],
   "source": [
    "hparams = (num_inputs = 28*28, num_outputs = 10, num_hidden_1 = 256, num_hidden_2 = 256,\n",
    "           dropout_1 = 0.5, dropout_2 = 0.5, lr = 0.1)\n",
    "model = DropoutScratchMLP(; hparams...)\n",
    "\n",
    "opt = Descent(0.1)\n",
    "data = d2lai.FashionMNISTData(; batchsize = 256, flatten = true)\n",
    "trainer = Trainer(model, data, opt; max_epochs = 10)\n",
    "d2lai.fit(trainer)"
   ]
  },
  {
   "cell_type": "code",
   "execution_count": null,
   "id": "fdded964-e3d6-41c3-932a-1574203eca7b",
   "metadata": {},
   "outputs": [],
   "source": []
  },
  {
   "cell_type": "code",
   "execution_count": null,
   "id": "0eb6523f-c713-4652-8b37-da237226abf5",
   "metadata": {},
   "outputs": [],
   "source": []
  }
 ],
 "metadata": {
  "kernelspec": {
   "display_name": "Julia (4 threads) 1.11.4",
   "language": "julia",
   "name": "julia-_4-threads_-1.11"
  },
  "language_info": {
   "file_extension": ".jl",
   "mimetype": "application/julia",
   "name": "julia",
   "version": "1.11.4"
  }
 },
 "nbformat": 4,
 "nbformat_minor": 5
}
