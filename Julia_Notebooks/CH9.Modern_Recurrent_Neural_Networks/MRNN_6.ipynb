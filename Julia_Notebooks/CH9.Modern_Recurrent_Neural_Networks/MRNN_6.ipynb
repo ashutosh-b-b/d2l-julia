{
 "cells": [
  {
   "cell_type": "markdown",
   "id": "c53a9c16-9c53-4006-a30f-23c7e1136fc4",
   "metadata": {},
   "source": [
    "# The Encoder--Decoder Architecture\n",
    "\n",
    "In general sequence-to-sequence problems\n",
    "like machine translation\n",
    "(:numref:`sec_machine_translation`),\n",
    "inputs and outputs are of varying lengths\n",
    "that are unaligned.\n",
    "The standard approach to handling this sort of data\n",
    "is to design an *encoder--decoder* architecture (:numref:`fig_encoder_decoder`)\n",
    "consisting of two major components:\n",
    "an *encoder* that takes a variable-length sequence as input,\n",
    "and a *decoder* that acts as a conditional language model,\n",
    "taking in the encoded input\n",
    "and the leftwards context of the target sequence\n",
    "and predicting the subsequent token in the target sequence.\n",
    "\n",
    "\n",
    "![The encoder--decoder architecture.](../img/encoder-decoder.svg)\n",
    ":label:`fig_encoder_decoder`\n",
    "\n",
    "Let's take machine translation from English to French as an example.\n",
    "Given an input sequence in English:\n",
    "\"They\", \"are\", \"watching\", \".\",\n",
    "this encoder--decoder architecture\n",
    "first encodes the variable-length input into a state,\n",
    "then decodes the state\n",
    "to generate the translated sequence,\n",
    "token by token, as output:\n",
    "\"Ils\", \"regardent\", \".\".\n",
    "Since the encoder--decoder architecture\n",
    "forms the basis of different sequence-to-sequence models\n",
    "in subsequent sections,\n",
    "this section will convert this architecture\n",
    "into an interface that will be implemented later."
   ]
  },
  {
   "cell_type": "code",
   "execution_count": 2,
   "id": "783faa06-79ab-4617-b2bf-f5d18920d90e",
   "metadata": {},
   "outputs": [
    {
     "name": "stderr",
     "output_type": "stream",
     "text": [
      "\u001b[32m\u001b[1m  Activating\u001b[22m\u001b[39m project at `/workspace/d2l-julia/d2lai`\n"
     ]
    }
   ],
   "source": [
    "using Pkg; Pkg.activate(\"../../d2lai\")\n",
    "using d2lai\n",
    "using Flux \n",
    "using Downloads\n",
    "using StatsBase\n",
    "using Plots\n",
    "using CUDA, cuDNN\n",
    "import d2lai: RNNScratch"
   ]
  },
  {
   "cell_type": "markdown",
   "id": "0a97caf1-45ab-49cb-89ff-9edbfeb77b7e",
   "metadata": {},
   "source": [
    "## Encoder\n",
    "\n",
    "In the encoder interface,\n",
    "we just specify that\n",
    "the encoder takes variable-length sequences as input `X`.\n",
    "The implementation will be provided\n",
    "by any model that subtypes this base `AbstractEncoder`"
   ]
  },
  {
   "cell_type": "code",
   "execution_count": 6,
   "id": "2f5766c4-5b60-4008-a734-c2454ae70005",
   "metadata": {},
   "outputs": [],
   "source": [
    "abstract type AbstractEncoder <: AbstractModel end"
   ]
  },
  {
   "cell_type": "markdown",
   "id": "5255094e-2081-45e5-81ac-4c21f62d0cf5",
   "metadata": {},
   "source": [
    "## Decoder\n",
    "\n",
    "In the following decoder interface,\n",
    "we add an additional `init_state` method\n",
    "to convert the encoder output (`enc_all_outputs`)\n",
    "into the encoded state.\n",
    "Note that this step\n",
    "may require extra inputs,\n",
    "such as the valid length of the input,\n",
    "which was explained\n",
    "in :numref:`sec_machine_translation`.\n",
    "To generate a variable-length sequence token by token,\n",
    "every time the decoder may map an input\n",
    "(e.g., the generated token at the previous time step)\n",
    "and the encoded state\n",
    "into an output token at the current time step. However this is handled in the next section and we currently only define the abstract class and the `init_state` method"
   ]
  },
  {
   "cell_type": "code",
   "execution_count": 5,
   "id": "05cc7c4f-74a7-4032-a282-c0b166d574c8",
   "metadata": {},
   "outputs": [
    {
     "data": {
      "text/plain": [
       "init_state (generic function with 1 method)"
      ]
     },
     "execution_count": 5,
     "metadata": {},
     "output_type": "execute_result"
    }
   ],
   "source": [
    "abstract type AbstractDecoder <: AbstractModel end\n",
    "\n",
    "function init_state(decoder::AbstractDecoder, args...) end"
   ]
  },
  {
   "cell_type": "markdown",
   "id": "4f4ce328-c495-4a51-8ac9-bfad8f132a26",
   "metadata": {},
   "source": [
    "## Putting the Encoder and Decoder Together\n",
    "\n",
    "In the forward propagation,\n",
    "the output of the encoder\n",
    "is used to produce the encoded state,\n",
    "and this state will be further used\n",
    "by the decoder as one of its input.\n"
   ]
  },
  {
   "cell_type": "code",
   "execution_count": 4,
   "id": "4f8dcbd0-dc08-4adf-b70e-0e1200c8f71e",
   "metadata": {},
   "outputs": [],
   "source": [
    "abstract type AbstractEncoderDecoder <: AbstractClassifier end \n",
    "\n",
    "function (model::AbstractEncoderDecoder)(enc_X, dec_X, args...)\n",
    "    enc_all_outputs = model.encoder(enc_X, args...)\n",
    "    dec_state = init_state(model.decoder, enc_all_outputs, args...)\n",
    "    return model.decoder(dec_X, dec_state)[1]\n",
    "end"
   ]
  },
  {
   "cell_type": "markdown",
   "id": "ff591870-6b2b-4a6c-9dd7-a9248f3b7ace",
   "metadata": {},
   "source": [
    "In the next section,\n",
    "we will see how to apply RNNs to design\n",
    "sequence-to-sequence models based on\n",
    "this encoder--decoder architecture.\n",
    "\n",
    "\n",
    "## Summary\n",
    "\n",
    "Encoder-decoder architectures\n",
    "can handle inputs and outputs\n",
    "that both consist of variable-length sequences\n",
    "and thus are suitable for sequence-to-sequence problems\n",
    "such as machine translation.\n",
    "The encoder takes a variable-length sequence as input\n",
    "and transforms it into a state with a fixed shape.\n",
    "The decoder maps the encoded state of a fixed shape\n",
    "to a variable-length sequence.\n",
    "\n",
    "\n",
    "## Exercises\n",
    "\n",
    "1. Suppose that we use neural networks to implement the encoder--decoder architecture. Do the encoder and the decoder have to be the same type of neural network?\n",
    "1. Besides machine translation, can you think of another application where the encoder--decoder architecture can be applied?\n"
   ]
  },
  {
   "cell_type": "code",
   "execution_count": null,
   "id": "e7024f09-a81e-483c-831a-d4160268e178",
   "metadata": {},
   "outputs": [],
   "source": []
  }
 ],
 "metadata": {
  "kernelspec": {
   "display_name": "Julia 16th 1.11.4",
   "language": "julia",
   "name": "julia-16th-1.11"
  },
  "language_info": {
   "file_extension": ".jl",
   "mimetype": "application/julia",
   "name": "julia",
   "version": "1.11.4"
  }
 },
 "nbformat": 4,
 "nbformat_minor": 5
}
