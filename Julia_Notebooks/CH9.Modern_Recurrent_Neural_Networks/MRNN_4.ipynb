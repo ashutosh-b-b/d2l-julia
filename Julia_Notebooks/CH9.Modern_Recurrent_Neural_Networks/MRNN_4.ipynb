{
 "cells": [
  {
   "cell_type": "markdown",
   "id": "97b97556-f975-4fd4-ac16-e9eb21e4421c",
   "metadata": {},
   "source": [
    "# Bidirectional Recurrent Neural Networks\n",
    "\n",
    "So far, our working example of a sequence learning task has been language modeling,\n",
    "where we aim to predict the next token given all previous tokens in a sequence.\n",
    "In this scenario, we wish only to condition upon the leftward context,\n",
    "and thus the unidirectional chaining of a standard RNN seems appropriate.\n",
    "However, there are many other sequence learning tasks contexts\n",
    "where it is perfectly fine to condition the prediction at every time step\n",
    "on both the leftward and the rightward context.\n",
    "Consider, for example, part of speech detection.\n",
    "Why shouldn't we take the context in both directions into account\n",
    "when assessing the part of speech associated with a given word?\n",
    "\n",
    "Another common task---often useful as a pretraining exercise\n",
    "prior to fine-tuning a model on an actual task of interest---is\n",
    "to mask out random tokens in a text document and then to train\n",
    "a sequence model to predict the values of the missing tokens.\n",
    "Note that depending on what comes after the blank,\n",
    "the likely value of the missing token changes dramatically:\n",
    "\n",
    "* I am `___`.\n",
    "* I am `___` hungry.\n",
    "* I am `___` hungry, and I can eat half a pig.\n",
    "\n",
    "In the first sentence \"happy\" seems to be a likely candidate.\n",
    "The words \"not\" and \"very\" seem plausible in the second sentence,\n",
    "but \"not\" seems incompatible with the third sentences.\n",
    "\n",
    "\n",
    "Fortunately, a simple technique transforms any unidirectional RNN\n",
    "into a bidirectional RNN :cite:`Schuster.Paliwal.1997`.\n",
    "We simply implement two unidirectional RNN layers\n",
    "chained together in opposite directions\n",
    "and acting on the same input (:numref:`fig_birnn`).\n",
    "For the first RNN layer,\n",
    "the first input is $\\mathbf{x}_1$\n",
    "and the last input is $\\mathbf{x}_T$,\n",
    "but for the second RNN layer,\n",
    "the first input is $\\mathbf{x}_T$\n",
    "and the last input is $\\mathbf{x}_1$.\n",
    "To produce the output of this bidirectional RNN layer,\n",
    "we simply concatenate together the corresponding outputs\n",
    "of the two underlying unidirectional RNN layers.\n",
    "\n",
    "\n",
    "![Architecture of a bidirectional RNN.](../img/birnn.svg)\n",
    ":label:`fig_birnn`\n",
    "\n",
    "\n",
    "Formally for any time step $t$,\n",
    "we consider a minibatch input $\\mathbf{X}_t \\in \\mathbb{R}^{n \\times d}$\n",
    "(number of examples $=n$; number of inputs in each example $=d$)\n",
    "and let the hidden layer activation function be $\\phi$.\n",
    "In the bidirectional architecture,\n",
    "the forward and backward hidden states for this time step\n",
    "are $\\overrightarrow{\\mathbf{H}}_t  \\in \\mathbb{R}^{n \\times h}$\n",
    "and $\\overleftarrow{\\mathbf{H}}_t  \\in \\mathbb{R}^{n \\times h}$, respectively,\n",
    "where $h$ is the number of hidden units.\n",
    "The forward and backward hidden state updates are as follows:\n",
    "\n",
    "\n",
    "$$\n",
    "\\begin{aligned}\n",
    "\\overrightarrow{\\mathbf{H}}_t &= \\phi(\\mathbf{X}_t \\mathbf{W}_{\\textrm{xh}}^{(f)} + \\overrightarrow{\\mathbf{H}}_{t-1} \\mathbf{W}_{\\textrm{hh}}^{(f)}  + \\mathbf{b}_\\textrm{h}^{(f)}),\\\\\n",
    "\\overleftarrow{\\mathbf{H}}_t &= \\phi(\\mathbf{X}_t \\mathbf{W}_{\\textrm{xh}}^{(b)} + \\overleftarrow{\\mathbf{H}}_{t+1} \\mathbf{W}_{\\textrm{hh}}^{(b)}  + \\mathbf{b}_\\textrm{h}^{(b)}),\n",
    "\\end{aligned}\n",
    "$$\n",
    "\n",
    "where the weights $\\mathbf{W}_{\\textrm{xh}}^{(f)} \\in \\mathbb{R}^{d \\times h}, \\mathbf{W}_{\\textrm{hh}}^{(f)} \\in \\mathbb{R}^{h \\times h}, \\mathbf{W}_{\\textrm{xh}}^{(b)} \\in \\mathbb{R}^{d \\times h}, \\textrm{ and } \\mathbf{W}_{\\textrm{hh}}^{(b)} \\in \\mathbb{R}^{h \\times h}$, and the biases $\\mathbf{b}_\\textrm{h}^{(f)} \\in \\mathbb{R}^{1 \\times h}$ and $\\mathbf{b}_\\textrm{h}^{(b)} \\in \\mathbb{R}^{1 \\times h}$ are all the model parameters.\n",
    "\n",
    "Next, we concatenate the forward and backward hidden states\n",
    "$\\overrightarrow{\\mathbf{H}}_t$ and $\\overleftarrow{\\mathbf{H}}_t$\n",
    "to obtain the hidden state $\\mathbf{H}_t \\in \\mathbb{R}^{n \\times 2h}$ for feeding into the output layer.\n",
    "In deep bidirectional RNNs with multiple hidden layers,\n",
    "such information is passed on as *input* to the next bidirectional layer.\n",
    "Last, the output layer computes the output\n",
    "$\\mathbf{O}_t \\in \\mathbb{R}^{n \\times q}$ (number of outputs $=q$):\n",
    "\n",
    "$$\\mathbf{O}_t = \\mathbf{H}_t \\mathbf{W}_{\\textrm{hq}} + \\mathbf{b}_\\textrm{q}.$$\n",
    "\n",
    "Here, the weight matrix $\\mathbf{W}_{\\textrm{hq}} \\in \\mathbb{R}^{2h \\times q}$\n",
    "and the bias $\\mathbf{b}_\\textrm{q} \\in \\mathbb{R}^{1 \\times q}$\n",
    "are the model parameters of the output layer.\n",
    "While technically, the two directions can have different numbers of hidden units,\n",
    "this design choice is seldom made in practice.\n",
    "We now demonstrate a simple implementation"
   ]
  },
  {
   "cell_type": "code",
   "execution_count": 1,
   "id": "f95ea5d2-8488-4832-a4c6-c9d950ae47e1",
   "metadata": {},
   "outputs": [
    {
     "name": "stderr",
     "output_type": "stream",
     "text": [
      "\u001b[32m\u001b[1m  Activating\u001b[22m\u001b[39m project at `/workspace/d2l-julia/d2lai`\n"
     ]
    }
   ],
   "source": [
    "using Pkg; Pkg.activate(\"../../d2lai\")\n",
    "using d2lai\n",
    "using Flux \n",
    "using Downloads\n",
    "using StatsBase\n",
    "using Plots\n",
    "using CUDA, cuDNN\n",
    "import d2lai: RNNScratch"
   ]
  },
  {
   "cell_type": "markdown",
   "id": "a1475b3a-52cf-4179-8af2-c6a3ec46fb06",
   "metadata": {},
   "source": [
    "## Implementation from Scratch\n",
    "\n",
    "If we want to implement a bidirectional RNN from scratch, we can\n",
    "include two unidirectional `RNNScratch` instances\n",
    "with separate learnable parameters.\n"
   ]
  },
  {
   "cell_type": "code",
   "execution_count": 2,
   "id": "ccea726f-7693-4587-b9cf-c07bc9eb5f3f",
   "metadata": {},
   "outputs": [],
   "source": [
    "struct BiRNNScratch{N, A} <: AbstractModel\n",
    "    net::N\n",
    "    args::A\n",
    "end \n",
    "\n",
    "Flux.@layer BiRNNScratch trainable=(net,)\n",
    "\n",
    "function BiRNNScratch(num_inputs::Int, num_hiddens::Int; sigma = 0.01)\n",
    "    frnn = RNNScratch(num_inputs, num_hiddens; sigma)\n",
    "    brnn = RNNScratch(num_inputs, num_hiddens; sigma)\n",
    "    BiRNNScratch((; frnn, brnn), (num_hiddens = num_hiddens*2 ,num_inputs, sigma))\n",
    "end\n",
    "\n",
    "\n",
    "\n",
    "    \n",
    "\n",
    "    "
   ]
  },
  {
   "cell_type": "markdown",
   "id": "6ea01c5b-0895-486f-8291-88d1ea3fa41a",
   "metadata": {},
   "source": [
    "States of forward and backward RNNs\n",
    "are updated separately,\n",
    "while outputs of these two RNNs are concatenated."
   ]
  },
  {
   "cell_type": "code",
   "execution_count": null,
   "id": "4fec281c-c041-4861-850d-04f65d1f2a23",
   "metadata": {},
   "outputs": [],
   "source": [
    "function (m::BiRNNScratch)(x, state = nothing)\n",
    "    f_state, b_state = isnothing(state) ? (nothing, nothing) : state\n",
    "    out_f, f_state = m.net.frnn(x, f_state)\n",
    "    out_b, b_state = m.net.brnn(reverse(x, dims = 2), b_state)\n",
    "    out = cat(out_f, reverse(out_b, dims = 2), dims = 1)\n",
    "    return out, (f_state, b_state)\n",
    "end"
   ]
  },
  {
   "cell_type": "markdown",
   "id": "40b9e6f1-756d-441c-8e60-ef194d0df784",
   "metadata": {},
   "source": [
    "## Concise Implementation\n",
    "\n",
    "Using the high-level APIs,\n",
    "we can implement bidirectional RNNs more concisely.\n",
    "Here we take a GRU model as an example.\n",
    "\n"
   ]
  },
  {
   "cell_type": "code",
   "execution_count": null,
   "id": "57670a6d-9873-4ad7-8875-d7d141623592",
   "metadata": {},
   "outputs": [],
   "source": [
    "model = GRU(num_inputs => num_hiddens, bidirectional = true)"
   ]
  },
  {
   "cell_type": "code",
   "execution_count": null,
   "id": "56a0ad51-04bf-4a26-89bb-c9a49e43b8af",
   "metadata": {},
   "outputs": [],
   "source": []
  }
 ],
 "metadata": {
  "kernelspec": {
   "display_name": "Julia 16th 1.11.4",
   "language": "julia",
   "name": "julia-16th-1.11"
  },
  "language_info": {
   "file_extension": ".jl",
   "mimetype": "application/julia",
   "name": "julia",
   "version": "1.11.4"
  }
 },
 "nbformat": 4,
 "nbformat_minor": 5
}
